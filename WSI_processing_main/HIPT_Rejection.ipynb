{
 "cells": [
  {
   "cell_type": "code",
   "execution_count": 1,
   "id": "440ea646-1284-4d6c-8632-23c35b75dd80",
   "metadata": {},
   "outputs": [],
   "source": [
    "import os\n",
    "import shutil\n",
    "import glob\n",
    "import torch\n",
    "from torchinfo import summary\n",
    "import numpy as np\n",
    "import pandas as pd\n",
    "import matplotlib.pyplot as plt\n",
    "import seaborn as sns\n",
    "from PIL import Image\n",
    "import cv2\n",
    "\n",
    "import random\n",
    "from sklearn.model_selection import train_test_split\n",
    "from sklearn.metrics import f1_score\n",
    "from sklearn.metrics import confusion_matrix, roc_curve, auc\n",
    "from sklearn.linear_model import LogisticRegression\n",
    "from sklearn.ensemble import RandomForestClassifier\n",
    "from sklearn.manifold import TSNE"
   ]
  },
  {
   "cell_type": "code",
   "execution_count": 2,
   "id": "0df0dac4-8fbb-41a6-ac9d-f2bcabd77efd",
   "metadata": {},
   "outputs": [],
   "source": [
    "os.chdir(r\"/mnt/hd1/ani/HIPT/HIPT_4K\")\n",
    "from hipt_4k import HIPT_4K\n",
    "from hipt_model_utils import get_vit256, get_vit4k, eval_transforms\n",
    "from hipt_heatmap_utils import *\n",
    "from attention_visualization_utils import *\n",
    "light_jet = cmap_map(lambda x: x/2 + 0.5, matplotlib.cm.jet)"
   ]
  },
  {
   "cell_type": "code",
   "execution_count": 3,
   "id": "ddf4ce21-5d3d-4f2f-a624-61b0ee14265f",
   "metadata": {},
   "outputs": [
    {
     "name": "stdout",
     "output_type": "stream",
     "text": [
      "cuda\n",
      "_CudaDeviceProperties(name='NVIDIA RTX A5000', major=8, minor=6, total_memory=24251MB, multi_processor_count=64)\n",
      "Total memory in GB:  24.83328\n",
      "Memory reserved in GB:  0.0\n",
      "Memory allocated in GB:  0.0\n"
     ]
    }
   ],
   "source": [
    "# Device + Hyperparameters\n",
    "device = \"cuda\" if torch.cuda.is_available() else \"cpu\"\n",
    "print(device)\n",
    "\n",
    "# Check GPU properties\n",
    "for i in range(torch.cuda.device_count()): \n",
    "    print(torch.cuda.get_device_properties(i))\n",
    "    \n",
    "    # Get memory\n",
    "    print('Total memory in GB: ', torch.cuda.get_device_properties(i).total_memory/(1.024*1e9))\n",
    "    print('Memory reserved in GB: ', torch.cuda.memory_reserved(i)/(1.024*1e9))\n",
    "    print('Memory allocated in GB: ', torch.cuda.memory_allocated(i)/(1.024*1e9))"
   ]
  },
  {
   "cell_type": "code",
   "execution_count": 4,
   "id": "24ab0a14-b311-4103-8e4e-059aa1e0df65",
   "metadata": {},
   "outputs": [
    {
     "name": "stdout",
     "output_type": "stream",
     "text": [
      "Take key teacher in provided checkpoint dict\n",
      "Pretrained weights found at ./Checkpoints/vit256_small_dino.pth and loaded with msg: _IncompatibleKeys(missing_keys=[], unexpected_keys=['head.mlp.0.weight', 'head.mlp.0.bias', 'head.mlp.2.weight', 'head.mlp.2.bias', 'head.mlp.4.weight', 'head.mlp.4.bias', 'head.last_layer.weight_g', 'head.last_layer.weight_v'])\n",
      "# of Patches: 196\n",
      "Take key teacher in provided checkpoint dict\n",
      "Pretrained weights found at ./Checkpoints/vit4k_xs_dino.pth and loaded with msg: _IncompatibleKeys(missing_keys=[], unexpected_keys=['head.mlp.0.weight', 'head.mlp.0.bias', 'head.mlp.2.weight', 'head.mlp.2.bias', 'head.mlp.4.weight', 'head.mlp.4.bias', 'head.last_layer.weight_g', 'head.last_layer.weight_v'])\n",
      "Take key teacher in provided checkpoint dict\n",
      "Pretrained weights found at ./Checkpoints/vit256_small_dino.pth and loaded with msg: _IncompatibleKeys(missing_keys=[], unexpected_keys=['head.mlp.0.weight', 'head.mlp.0.bias', 'head.mlp.2.weight', 'head.mlp.2.bias', 'head.mlp.4.weight', 'head.mlp.4.bias', 'head.last_layer.weight_g', 'head.last_layer.weight_v'])\n",
      "# of Patches: 196\n",
      "Take key teacher in provided checkpoint dict\n",
      "Pretrained weights found at ./Checkpoints/vit4k_xs_dino.pth and loaded with msg: _IncompatibleKeys(missing_keys=[], unexpected_keys=['head.mlp.0.weight', 'head.mlp.0.bias', 'head.mlp.2.weight', 'head.mlp.2.bias', 'head.mlp.4.weight', 'head.mlp.4.bias', 'head.last_layer.weight_g', 'head.last_layer.weight_v'])\n"
     ]
    },
    {
     "data": {
      "text/plain": [
       "=========================================================\n",
       "Layer (type (var_name))                       Param #\n",
       "=========================================================\n",
       "HIPT_4K (HIPT_4K)                             --\n",
       "├─VisionTransformer (model256)                76,032\n",
       "│    └─PatchEmbed (patch_embed)               --\n",
       "│    │    └─Conv2d (proj)                     (295,296)\n",
       "│    └─Dropout (pos_drop)                     --\n",
       "│    └─ModuleList (blocks)                    --\n",
       "│    │    └─Block (0)                         (1,774,464)\n",
       "│    │    └─Block (1)                         (1,774,464)\n",
       "│    │    └─Block (2)                         (1,774,464)\n",
       "│    │    └─Block (3)                         (1,774,464)\n",
       "│    │    └─Block (4)                         (1,774,464)\n",
       "│    │    └─Block (5)                         (1,774,464)\n",
       "│    │    └─Block (6)                         (1,774,464)\n",
       "│    │    └─Block (7)                         (1,774,464)\n",
       "│    │    └─Block (8)                         (1,774,464)\n",
       "│    │    └─Block (9)                         (1,774,464)\n",
       "│    │    └─Block (10)                        (1,774,464)\n",
       "│    │    └─Block (11)                        (1,774,464)\n",
       "│    └─LayerNorm (norm)                       (768)\n",
       "│    └─Identity (head)                        --\n",
       "├─VisionTransformer4K (model4k)               38,016\n",
       "│    └─Sequential (phi)                       --\n",
       "│    │    └─Linear (0)                        (73,920)\n",
       "│    │    └─GELU (1)                          --\n",
       "│    │    └─Dropout (2)                       --\n",
       "│    └─Dropout (pos_drop)                     --\n",
       "│    └─ModuleList (blocks)                    --\n",
       "│    │    └─Block (0)                         (444,864)\n",
       "│    │    └─Block (1)                         (444,864)\n",
       "│    │    └─Block (2)                         (444,864)\n",
       "│    │    └─Block (3)                         (444,864)\n",
       "│    │    └─Block (4)                         (444,864)\n",
       "│    │    └─Block (5)                         (444,864)\n",
       "│    └─LayerNorm (norm)                       (384)\n",
       "│    └─Identity (head)                        --\n",
       "=========================================================\n",
       "Total params: 24,447,168\n",
       "Trainable params: 0\n",
       "Non-trainable params: 24,447,168\n",
       "========================================================="
      ]
     },
     "execution_count": 4,
     "metadata": {},
     "output_type": "execute_result"
    }
   ],
   "source": [
    "pretrained_weights256 = '../Checkpoints/vit256_small_dino.pth'\n",
    "pretrained_weights4k = '../Checkpoints/vit4k_xs_dino.pth'\n",
    "device256 = torch.device('cpu')\n",
    "device4k = torch.device('cpu')\n",
    "\n",
    "### ViT_256 + ViT_4K loaded independently (used for Attention Heatmaps)\n",
    "model256 = get_vit256(pretrained_weights=pretrained_weights256, device=device256)\n",
    "model4k = get_vit4k(pretrained_weights=pretrained_weights4k, device=device4k)\n",
    "\n",
    "### ViT_256 + ViT_4K loaded into HIPT_4K API\n",
    "model = HIPT_4K(pretrained_weights256, pretrained_weights4k, device256, device4k)\n",
    "model.eval()\n",
    "\n",
    "# Print model summary\n",
    "summary(model=model,\n",
    "        col_width=12,\n",
    "        row_settings=[\"var_names\"]\n",
    "       )"
   ]
  },
  {
   "cell_type": "markdown",
   "id": "942b7028-bc82-4201-8d7d-eef1de353152",
   "metadata": {},
   "source": [
    "## Standalone HIPT_4K Model Inference"
   ]
  },
  {
   "cell_type": "code",
   "execution_count": 5,
   "id": "9bbe43d3-a1a9-4acc-989e-caeb76beb7fb",
   "metadata": {},
   "outputs": [
    {
     "name": "stdout",
     "output_type": "stream",
     "text": [
      "Input Shape: torch.Size([1, 3, 4096, 4096])\n",
      "Output Shape: torch.Size([1, 192])\n"
     ]
    }
   ],
   "source": [
    "region = Image.open('/mnt/hd1/ani/Liver_pathology_project/Prepared_datasets/Tile_size_4096x4096/Testing_sd_30/Test_set_NASH_id_105_ACR_id_504/NASH/105_14_4.png')\n",
    "region = region.convert('RGB')   # converting MxNx4 (RGBA) --> MxNx3 (RGB format)\n",
    "\n",
    "x = eval_transforms()(region).unsqueeze(dim=0)\n",
    "print('Input Shape:', x.shape)\n",
    "print('Output Shape:', model.forward(x).shape)"
   ]
  },
  {
   "cell_type": "markdown",
   "id": "e8fe2d63-5c5f-4aa5-806f-eb6755537043",
   "metadata": {},
   "source": [
    "## HIPT_4K Attention Heatmaps"
   ]
  },
  {
   "cell_type": "markdown",
   "id": "d8907f80-a064-4e42-b11e-c96f9a7f5825",
   "metadata": {},
   "source": [
    "##### Code for producing attention results (for [256 x 256], [4096 x 4096], and hierarchical [4096 x 4096]) can be run (as-is) below. There are several ways these results can be run:\n",
    "\n",
    "hipt_4k.py Class (Preferred): This class blends inference and heatmap creation in a seamless and more object-oriented manner, and is where I am focusing my future code development around.\n",
    "Helper Functions in hipt_heatmap_utils.py (Soon-to-be-deprecated): Heatmap creation was originally written as helper functions. May be more useful and easier from research perspective.\n",
    "Please use whatever is most helpful for your use case :)"
   ]
  },
  {
   "cell_type": "markdown",
   "id": "baa8df08-15ef-4275-8660-7dd2bd96ec28",
   "metadata": {},
   "source": [
    "## 256 x 256 Demo (Saving Attention Maps Individually)"
   ]
  },
  {
   "cell_type": "code",
   "execution_count": 6,
   "id": "1d14bafa-f2c3-4447-84ac-c6eadf1d4ca0",
   "metadata": {},
   "outputs": [],
   "source": [
    "# ### Lets automate this to save Attention maps of a bunch of images we wish to analyze\n",
    "# path_test_imgs = '/mnt/hd1/ani/Liver_pathology_project/Prepared_datasets/Tile_size_256x256/Testing_sd_30/Test_set_NASH_id_156_ACR_id_262/NASH/'\n",
    "# output_dir_parent = '/mnt/hd1/ani/Liver_pathology_project/Results/HIPT/4096x4096 images/Test_set_NASH_id_156/256_individual/'\n",
    "\n",
    "# test_imgs_list = (glob.glob(path_test_imgs + \"*.png\"))\n",
    "# # len(test_imgs_list)\n",
    "\n",
    "# for i in range(len(test_imgs_list)):\n",
    "#     patch = Image.open(test_imgs_list[i])\n",
    "#     patch = patch.convert('RGB')   # converting MxNx4 (RGBA) --> MxNx3 (RGB format)\n",
    "#     output_dir = output_dir_parent + str(i+1)\n",
    "#     os.makedirs(output_dir, exist_ok=True)\n",
    "#     create_patch_heatmaps_indiv(patch, model256, \n",
    "#                                    output_dir, fname=('patch'+str(i+1)), \n",
    "#                                    cmap=plt.get_cmap('coolwarm'), device256=torch.device(\"cuda\")\n",
    "#                                    )\n",
    "#     del patch"
   ]
  },
  {
   "cell_type": "markdown",
   "id": "6dd0de90-5bcc-4d35-814a-3194aaca74aa",
   "metadata": {},
   "source": [
    "## 256 x 256 Demo (Concatenating + Saving Attention Maps)"
   ]
  },
  {
   "cell_type": "code",
   "execution_count": 7,
   "id": "9c76b6da-4f75-47ab-9058-fd41dce2bd49",
   "metadata": {},
   "outputs": [],
   "source": [
    "# ### Lets automate this to save Attention maps of a bunch of images we wish to analyze\n",
    "# path_test_imgs = '/mnt/hd1/ani/Liver_pathology_project/Prepared_datasets/Tile_size_256x256/Testing_sd_30/Test_set_NASH_id_156_ACR_id_262/NASH/'\n",
    "# output_dir_parent = '/mnt/hd1/ani/Liver_pathology_project/Results/HIPT/4096x4096 images/Test_set_NASH_id_156/256_concat/'\n",
    "\n",
    "# test_imgs_list = (glob.glob(path_test_imgs + \"*.png\"))\n",
    "# # len(test_imgs_list)\n",
    "\n",
    "# for i in range(len(test_imgs_list)):\n",
    "#     patch = Image.open(test_imgs_list[i])\n",
    "#     patch = patch.convert('RGB')   # converting MxNx4 (RGBA) --> MxNx3 (RGB format)\n",
    "#     output_dir = output_dir_parent + str(i+1)\n",
    "#     os.makedirs(output_dir, exist_ok=True)\n",
    "#     create_patch_heatmaps_concat(patch, model256, \n",
    "#                                    output_dir, fname=('patch'+str(i+1)), \n",
    "#                                    cmap=plt.get_cmap('coolwarm'), alpha=0.5,\n",
    "#                                    )\n",
    "#     del patch"
   ]
  },
  {
   "cell_type": "markdown",
   "id": "8e4e56dd-a036-4f1b-84cb-9efadfafbd99",
   "metadata": {},
   "source": [
    "## 4096 x 4096 Demo (Saving Attention Maps Individually)"
   ]
  },
  {
   "cell_type": "code",
   "execution_count": 8,
   "id": "da7632a6-9347-4fc4-8f8b-3b71c6212540",
   "metadata": {},
   "outputs": [],
   "source": [
    "### Lets automate this to save Attention maps of a bunch of images we wish to analyze\n",
    "path_test_imgs = '/mnt/hd1/ani/Liver_pathology_project/Prepared_datasets/Tile_size_4096x4096/Patient_image_sets_sd_30/104N/'\n",
    "output_dir_parent = '/mnt/hd1/ani/Liver_pathology_project/Results/HIPT/4096x4096_images/Anh_slides/'\n",
    "\n",
    "test_imgs_list = (glob.glob(path_test_imgs + \"*.png\"))\n",
    "# len(test_imgs_list)\n",
    "\n",
    "for i in range(1):\n",
    "    region = Image.open(test_imgs_list[i])\n",
    "    region = region.convert('RGB')   # converting MxNx4 (RGBA) --> MxNx3 (RGB format)\n",
    "    output_dir = output_dir_parent + str(i+1)\n",
    "    os.makedirs(output_dir, exist_ok=True)\n",
    "    create_hierarchical_heatmaps_indiv(region, model256, model4k, \n",
    "                                   output_dir, fname='region', \n",
    "                                   scale=2, threshold=0.5, cmap=light_jet, alpha=0.5)\n",
    "    del region"
   ]
  },
  {
   "cell_type": "markdown",
   "id": "8c1d6096",
   "metadata": {},
   "source": [
    "### We want to generate Attention maps for all 4096x4096 regions extracted from \"NASH\" + \"ACR\" WSIs"
   ]
  },
  {
   "cell_type": "code",
   "execution_count": 9,
   "id": "1b108eb3",
   "metadata": {},
   "outputs": [],
   "source": [
    "### Lets automate this to save Attention maps of a bunch of images we wish to analyze\n",
    "path_test_imgs = '/mnt/hd1/ani/Liver_pathology_project/Prepared_datasets/Tile_size_4096x4096/Anh_slides/'\n",
    "output_dir_parent = '/mnt/hd1/ani/Liver_pathology_project/Results/HIPT/4096x4096_images/'\n",
    "\n",
    "labels = [\"ACR\"]\n",
    "\n",
    "for l in range(len(labels)):\n",
    "\n",
    "    # Check of \"NASH\"/\"ACR\" folders exist\n",
    "    if (os.path.exists(path_test_imgs + labels[l]) == True):   # check for NASH folder\n",
    "    \n",
    "        # Get list of patient folders\n",
    "        indiv_patient_dirs = [f.path for f in os.scandir(path_test_imgs + labels[l]) if f.is_dir()]\n",
    "        # print(indiv_patient_dirs)\n",
    "\n",
    "        for i in range(1, len(indiv_patient_dirs)):   # for each patient\n",
    "        \n",
    "            # if i == 3:\n",
    "            #     break\n",
    "\n",
    "            # For each 4096x4096 region, generate multi-head Attention maps\n",
    "            imgs_4k_list = (glob.glob(indiv_patient_dirs[i] + \"/\" + \"*.png\"))\n",
    "\n",
    "            for j in range(len(imgs_4k_list)):   # for each 4k image\n",
    "                    \n",
    "                region = Image.open(imgs_4k_list[j])\n",
    "                region = region.convert('RGB')   # converting MxNx4 (RGBA) --> MxNx3 (RGB format)\n",
    "                output_dir = output_dir_parent + labels[l] + \"/\" + os.path.splitext(os.path.basename(indiv_patient_dirs[i]))[0] + \"/\" + str(j+1)\n",
    "                os.makedirs(output_dir, exist_ok=True)\n",
    "                create_hierarchical_heatmaps_indiv(region, model256, model4k, output_dir, \n",
    "                                               fname='region', scale=2, threshold=0.5, cmap=light_jet, alpha=0.5)\n",
    "                del region    \n",
    "\n"
   ]
  },
  {
   "cell_type": "code",
   "execution_count": 34,
   "id": "9eaa3d4e",
   "metadata": {},
   "outputs": [
    {
     "name": "stdout",
     "output_type": "stream",
     "text": [
      "Input Shape:  torch.Size([1, 3, 4096, 4096])\n",
      "(256, 256, 256, 3)\n",
      "(256, 6, 256, 256)\n",
      "(6, 4096, 4096)\n"
     ]
    },
    {
     "data": {
      "text/plain": [
       "<matplotlib.image.AxesImage at 0x7fbf47ce1ab0>"
      ]
     },
     "execution_count": 34,
     "metadata": {},
     "output_type": "execute_result"
    },
    {
     "data": {
      "image/png": "[encoded data removed]",
      "text/plain": [
       "<Figure size 640x480 with 1 Axes>"
      ]
     },
     "metadata": {},
     "output_type": "display_data"
    }
   ],
   "source": [
    "# region = Image.open(imgs_4k_list[-1])\n",
    "# region = region.convert('RGB')   # converting MxNx4 (RGBA) --> MxNx3 (RGB format)\n",
    "# x = eval_transforms()(region).unsqueeze(dim=0)\n",
    "# print(\"Input Shape: \", x.shape)\n",
    "\n",
    "# b256, a256, a4k = get_region_attention_scores(region, model256, model4k, scale=1)\n",
    "\n",
    "# print(b256.shape)\n",
    "# print(a256.shape)\n",
    "# print(a4k.shape)\n",
    "\n"
   ]
  },
  {
   "cell_type": "markdown",
   "id": "40431b84-9141-4903-9617-3357bc34b199",
   "metadata": {},
   "source": [
    "## 4096 x 4096 Demo (Concatenating + Saving Attention Maps)"
   ]
  },
  {
   "cell_type": "code",
   "execution_count": 10,
   "id": "dc9c03d7-7d26-4d2a-8c8f-612d66aba00a",
   "metadata": {},
   "outputs": [],
   "source": [
    "# ### Lets automate this to save Attention maps of a bunch of images we wish to analyze\n",
    "# path_test_imgs = '/mnt/hd1/ani/Liver_pathology_project/Prepared_datasets/Tile_size_4096x4096/Testing_sd_30/Test_set_NASH_id_156_ACR_id_262/NASH/'\n",
    "# output_dir_parent = '/mnt/hd1/ani/Liver_pathology_project/Results/HIPT/4096x4096 images/Test_set_NASH_id_156/4k_concat/'\n",
    "\n",
    "# test_imgs_list = (glob.glob(path_test_imgs + \"*.png\"))\n",
    "# # len(test_imgs_list)\n",
    "\n",
    "# for i in range(len(test_imgs_list)):\n",
    "#     region = Image.open(test_imgs_list[i])\n",
    "#     region = region.convert('RGB')   # converting MxNx4 (RGBA) --> MxNx3 (RGB format)    \n",
    "#     output_dir = output_dir_parent + str(i+1)\n",
    "#     os.makedirs(output_dir, exist_ok=True)\n",
    "#     create_hierarchical_heatmaps_concat(region, model256, model4k, \n",
    "#                                    output_dir, fname=('region'+str(i+1)), \n",
    "#                                    scale=2, cmap=plt.get_cmap('coolwarm'), alpha=0.5,\n",
    "#                                    )\n",
    "#     del region"
   ]
  },
  {
   "cell_type": "markdown",
   "id": "eaf20725-5ea4-4218-83b5-4b599ac58242",
   "metadata": {},
   "source": [
    "## Preparing dataset for slide-level classification "
   ]
  },
  {
   "cell_type": "markdown",
   "id": "b54ed578-6594-4b33-b1cb-40bfdce8a816",
   "metadata": {},
   "source": [
    "#### Basically, we want to analyze all 4K tiles: for each slide, get learned feature vectors for each tile and take average to obtain slide-level representation. If \"NASH\", label=1, if \"ACR\", label=0"
   ]
  },
  {
   "cell_type": "markdown",
   "id": "24e87c48-5d99-462f-840f-52eafb79e54c",
   "metadata": {},
   "source": [
    "#### Creating \"NASH\", \"ACR\" image folders with patient sub-folders"
   ]
  },
  {
   "cell_type": "code",
   "execution_count": 11,
   "id": "d32d3c18-a2bb-4f34-9a39-48c455277604",
   "metadata": {},
   "outputs": [],
   "source": [
    "# path_imgs = \"/mnt/hd1/ani/Liver_pathology_project/Prepared_datasets/Tile_size_4096x4096/Patient_image_sets_sd_30/\"\n",
    "\n",
    "# labels = [\"NASH\", \"ACR\"]\n",
    "\n",
    "# ### Let us dump 4096x4096 regions of \"ACR\" and \"NASH\" into 2 separate folders\n",
    "# indiv_patient_imgs = [f.path for f in os.scandir(path_imgs) if f.is_dir()]\n",
    "# unwanted_files = glob.glob(path_imgs + \".*ipynb_checkpoints\")\n",
    "# # indiv_patient_imgs\n",
    "\n",
    "# # Create \"NASH\" and \"ACR folders\"\n",
    "# path_folders = (\"/mnt/hd1/ani/Liver_pathology_project/Prepared_datasets/Tile_size_4096x4096/\")\n",
    "# if (os.path.exists(path_folders + labels[1]) == False) & (os.path.exists(path_folders + labels[0]) == False):\n",
    "#     os.mkdir(path_folders + labels[1])   # creates ACR folder\n",
    "#     os.mkdir(path_folders + labels[0])   # creates NASH folder\n",
    "\n",
    "# for i in range(len(indiv_patient_imgs)):\n",
    "#     if indiv_patient_imgs[i] == unwanted_files[0]:\n",
    "#         continue\n",
    "    \n",
    "#     if indiv_patient_imgs[i][-1] == 'A':\n",
    "#         res_level_folder_a = [g.path for g in os.scandir(indiv_patient_imgs[i]) if g.is_dir()]\n",
    "#         high_sig_folder_a = [h.path for h in os.scandir(res_level_folder_a[0]) if h.is_dir()][1]\n",
    "        \n",
    "#         # Get list of \"png\" files\n",
    "#         img_list = (glob.glob(high_sig_folder_a + \"/\" + \"*.png\"))\n",
    "        \n",
    "#         # Copy files to \"ACR\" folder but put in specific patient sub-folder\n",
    "#         path_acr_copy_dest = path_folders + labels[1] + \"/\" + os.path.splitext(os.path.basename(indiv_patient_imgs[i]))[0][:-1]\n",
    "#         if os.path.exists(path_acr_copy_dest) == False:\n",
    "#             os.mkdir(path_acr_copy_dest)\n",
    "#             [shutil.copy(img_list[j], path_acr_copy_dest) for j in range(len(img_list))]\n",
    "        \n",
    "#     else:\n",
    "#         res_level_folder_n = [g.path for g in os.scandir(indiv_patient_imgs[i]) if g.is_dir()]\n",
    "#         high_sig_folder_n = [h.path for h in os.scandir(res_level_folder_n[0]) if h.is_dir()][1]\n",
    "        \n",
    "#         # Get list of \"png\" files\n",
    "#         img_list = (glob.glob(high_sig_folder_n + \"/\" + \"*.png\"))\n",
    "        \n",
    "#         # Copy files to \"NASH\" folder but put in specific patient sub-folder\n",
    "#         path_nash_copy_dest = path_folders + labels[0] + \"/\" + os.path.splitext(os.path.basename(indiv_patient_imgs[i]))[0][:-1]\n",
    "#         if os.path.exists(path_nash_copy_dest) == False:\n",
    "#             os.mkdir(path_nash_copy_dest)\n",
    "#             [shutil.copy(img_list[l], path_nash_copy_dest) for l in range(len(img_list))]"
   ]
  },
  {
   "cell_type": "markdown",
   "id": "29201eff-4f1d-4d10-add2-079786e6916f",
   "metadata": {},
   "source": [
    "### Create data matrix with (#patients, #features)"
   ]
  },
  {
   "cell_type": "code",
   "execution_count": 12,
   "id": "ab85a5eb-e1ae-48e3-b4c7-1845bb69d0ed",
   "metadata": {},
   "outputs": [],
   "source": [
    "# # First lets get the patient sub-folders\n",
    "# path_folders = (\"/mnt/hd1/ani/Liver_pathology_project/Prepared_datasets/Tile_size_4096x4096/\")\n",
    "# labels = [\"NASH\", \"ACR\"]\n",
    "# indiv_patient_folders_n = [p.path for p in os.scandir(path_folders + labels[0]) if p.is_dir()]\n",
    "# indiv_patient_folders_a = [q.path for q in os.scandir(path_folders + labels[1]) if q.is_dir()]\n",
    "\n",
    "# n_out_features = 192   # HIPT feature dimension\n",
    "\n",
    "# feat_tensor_n, feat_tensor_a = torch.zeros(len(indiv_patient_folders_n), n_out_features), torch.zeros(len(indiv_patient_folders_a), n_out_features) \n",
    "\n",
    "# # NASH dataset\n",
    "# for i in range(len(indiv_patient_folders_n)):\n",
    "#     # Path of NASH images\n",
    "#     imgs_list_nash = (glob.glob(indiv_patient_folders_n[i] + \"/\" + \"*.png\"))\n",
    "    \n",
    "#     # Initializing tensors to store extracted features\n",
    "#     feat_tensor_nash = torch.zeros(len(imgs_list_nash), n_out_features)\n",
    "    \n",
    "#     for j in range(len(imgs_list_nash)):\n",
    "#         region_nash = Image.open(imgs_list_nash[j])\n",
    "#         region_nash = region_nash.convert('RGB')   # converting MxNx4 (RGBA) --> MxNx3 (RGB format)\n",
    "\n",
    "#         # Forward propagate to get features\n",
    "#         feat_tensor_nash[j,:] = hipt_forward_pass(region_nash, model256, model4k, scale=1, \n",
    "#                                                        device256=torch.device('cuda:0'), \n",
    "#                                                        device4k=torch.device('cuda:0'))\n",
    "        \n",
    "#     # Compute mean embedding as slide-level representation\n",
    "#     feat_tensor_n[i, :] = torch.mean(feat_tensor_nash, dim=0)\n",
    "                \n",
    "        \n",
    "# # ACR dataset      \n",
    "# for u in range(len(indiv_patient_folders_a)):\n",
    "#     # Path of ACR images\n",
    "#     imgs_list_acr = (glob.glob(indiv_patient_folders_a[u] + \"/\" + \"*.png\"))\n",
    "    \n",
    "#     # Initializing tensors to store extracted features\n",
    "#     feat_tensor_acr = torch.zeros(len(imgs_list_acr), n_out_features)\n",
    "    \n",
    "#     for v in range(len(imgs_list_acr)):\n",
    "#         region_acr = Image.open(imgs_list_acr[v])\n",
    "#         region_acr = region_acr.convert('RGB')   # converting MxNx4 (RGBA) --> MxNx3 (RGB format)\n",
    "\n",
    "#         # Forward propagate to get features\n",
    "#         feat_tensor_acr[v,:] = hipt_forward_pass(region_acr, model256, model4k, scale=1, \n",
    "#                                                        device256=torch.device('cuda:0'), \n",
    "#                                                        device4k=torch.device('cuda:0'))\n",
    "        \n",
    "#     # Compute mean embedding as slide-level representation\n",
    "#     feat_tensor_a[u, :] = torch.mean(feat_tensor_acr, dim=0)\n",
    "\n",
    "    \n",
    "# # Lets also create tensors to store labels: \"1\" for Recurrent and \"0\" for Primary\n",
    "# labels_n, labels_a = torch.ones(len(indiv_patient_folders_n),), torch.zeros(len(indiv_patient_folders_a),)\n",
    "\n",
    "# # Checking tensor shapes\n",
    "# print('Shape of NASH feature tensor: ', feat_tensor_n.shape)\n",
    "# print('Shape of ACR feature tensor: ', feat_tensor_a.shape)\n",
    "# print('Shape of NASH label tensor: ', labels_n.shape)\n",
    "# print('Shape of ACR label tensor: ', labels_a.shape)"
   ]
  },
  {
   "cell_type": "code",
   "execution_count": 13,
   "id": "bc0b3b08-05de-4b42-a1ac-d4f68cc7b56e",
   "metadata": {},
   "outputs": [],
   "source": [
    "# # Converting all tensors to NumPy\n",
    "# feat_tensor_n_np, feat_tensor_a_np, labels_n_np, labels_a_np = feat_tensor_n.numpy(), feat_tensor_a.numpy(), labels_n.numpy(), labels_a.numpy()\n",
    "\n",
    "# # Keep equal no. of samples for both classes\n",
    "# num_samples = np.minimum(len(indiv_patient_folders_n), len(indiv_patient_folders_a))\n",
    "\n",
    "# # Randomly choose samples - this will be important for the class which has higher #examples\n",
    "# inds = np.random.randint(num_samples, size=num_samples)\n",
    "\n",
    "# feat_tensor_n_np_s, feat_tensor_a_np_s = feat_tensor_n_np[inds, :], feat_tensor_a_np[inds, :]\n",
    "# labels_n_np_s, labels_a_np_s = labels_n_np[inds], labels_a_np[inds]\n",
    "\n",
    "# # Stack class tensors\n",
    "# features = np.vstack((feat_tensor_n_np_s, feat_tensor_a_np_s))\n",
    "# labels = np.hstack((labels_n_np_s, labels_a_np_s))\n",
    "\n",
    "# # print('Feature dimension: ', features.shape)\n",
    "# # print('Label dimension: ', labels.shape)\n",
    "\n",
    "# data = np.zeros((features.shape[0], features.shape[1]+1))\n",
    "# data[:, :-1] = features\n",
    "# data[:, -1] = labels\n",
    "\n",
    "# print('Dataset dimension: ', data.shape)\n",
    "\n",
    "# ### Saving data as \".csv\"\n",
    "# df_data = pd.DataFrame(data)\n",
    "# df_data.to_csv(\"/mnt/hd1/ani/Liver_pathology_project/Data/HIPT_dataset_4kfeatures.csv\")"
   ]
  },
  {
   "cell_type": "markdown",
   "id": "635021c3",
   "metadata": {},
   "source": [
    "## Train traditional ML models and evaluate performance: repeated sampling for robustness"
   ]
  },
  {
   "cell_type": "code",
   "execution_count": 2,
   "id": "ae6a51fb-093c-4627-917f-0c0b76ec4859",
   "metadata": {},
   "outputs": [
    {
     "name": "stdout",
     "output_type": "stream",
     "text": [
      "Training RF, batch:1, n_estimators=100, max_features=3, min_sample_leaf=2\n",
      "Train F1-score: 1.0\n",
      "Test F1-score: 1.0\n",
      "Train AUC: 1.0\n",
      "Test AUC: 1.0\n",
      "\n",
      "Training RF, batch:2, n_estimators=100, max_features=3, min_sample_leaf=2\n",
      "Train F1-score: 1.0\n",
      "Test F1-score: 0.876984126984127\n",
      "Train AUC: 1.0\n",
      "Test AUC: 0.9\n",
      "\n",
      "Training RF, batch:3, n_estimators=100, max_features=3, min_sample_leaf=2\n",
      "Train F1-score: 1.0\n",
      "Test F1-score: 1.0\n",
      "Train AUC: 1.0\n",
      "Test AUC: 1.0\n",
      "\n",
      "Training RF, batch:4, n_estimators=100, max_features=3, min_sample_leaf=2\n",
      "Train F1-score: 1.0\n",
      "Test F1-score: 1.0\n",
      "Train AUC: 1.0\n",
      "Test AUC: 1.0\n",
      "\n",
      "Training RF, batch:5, n_estimators=100, max_features=3, min_sample_leaf=2\n",
      "Train F1-score: 1.0\n",
      "Test F1-score: 0.4246031746031746\n",
      "Train AUC: 1.0\n",
      "Test AUC: 0.6428571428571428\n",
      "\n",
      "Training RF, batch:6, n_estimators=100, max_features=3, min_sample_leaf=2\n",
      "Train F1-score: 1.0\n",
      "Test F1-score: 0.873015873015873\n",
      "Train AUC: 1.0\n",
      "Test AUC: 0.875\n",
      "\n",
      "Training RF, batch:7, n_estimators=100, max_features=3, min_sample_leaf=2\n",
      "Train F1-score: 1.0\n",
      "Test F1-score: 0.873015873015873\n",
      "Train AUC: 1.0\n",
      "Test AUC: 0.875\n",
      "\n",
      "Training RF, batch:8, n_estimators=100, max_features=3, min_sample_leaf=2\n",
      "Train F1-score: 1.0\n",
      "Test F1-score: 1.0\n",
      "Train AUC: 1.0\n",
      "Test AUC: 1.0\n",
      "\n",
      "Training RF, batch:9, n_estimators=100, max_features=3, min_sample_leaf=2\n",
      "Train F1-score: 1.0\n",
      "Test F1-score: 0.876984126984127\n",
      "Train AUC: 1.0\n",
      "Test AUC: 0.9\n",
      "\n",
      "Training RF, batch:10, n_estimators=100, max_features=3, min_sample_leaf=2\n",
      "Train F1-score: 1.0\n",
      "Test F1-score: 1.0\n",
      "Train AUC: 1.0\n",
      "Test AUC: 1.0\n",
      "\n",
      "Final train F1-score mean:  1.0\n",
      "Final train F1-score std:  0.0\n",
      "Final test F1-score mean:  0.8924603174603174\n",
      "Final test F1-score std:  0.16671815153394196\n",
      "Final train AUC mean:  1.0\n",
      "Final train AUC std:  0.0\n",
      "Final test AUC mean:  0.9192857142857143\n",
      "Final test AUC std:  0.10660818975317507\n"
     ]
    }
   ],
   "source": [
    "# Read data from \".csv\" file\n",
    "dataset = pd.read_csv(\"/mnt/hd1/ani/Liver_pathology_project/Data/HIPT_dataset_4kfeatures.csv\", index_col=0)\n",
    "dataset = dataset.to_numpy()\n",
    "X, y = dataset[:, :-1], dataset[:, -1]\n",
    "\n",
    "out_file = \"/mnt/hd1/ani/Liver_pathology_project/Results/HIPT/rf_hparams.txt\"\n",
    "\n",
    "num_iters = 10\n",
    "f1_train, f1_test, auc_train, auc_test = [], [], [], []\n",
    "\n",
    "f1_score_train, f1_score_test, auc_val_train, auc_val_test = np.zeros((num_iters,)), np.zeros((num_iters,)), np.zeros((num_iters,)), np.zeros((num_iters,))\n",
    "\n",
    "for i in range(num_iters):\n",
    "    # Split into train/test sets\n",
    "    X_train, X_test, y_train, y_test = train_test_split(X, y, test_size=0.4, shuffle=True)\n",
    "    \n",
    "    # Random Forest\n",
    "    for n_estimators in (50, 100):\n",
    "        for max_features in (2, 3):\n",
    "            for min_samples_leaf in (1, 2):\n",
    "                with open(out_file, \"a\") as f:\n",
    "                    # f.write(f\"MODEL: batch:{i+1}, n_estimators={n_estimators}, max_features={max_features}, min_sample_leaf={min_samples_leaf}\\n\")\n",
    "                    # f.write(\"\" +'\\n')\n",
    "                    # print(f\"Training RF, batch:{i+1}, n_estimators={n_estimators}, max_features={max_features}, min_sample_leaf={min_samples_leaf}\")\n",
    "                    \n",
    "                    model = RandomForestClassifier(n_estimators=n_estimators, \n",
    "                                                   max_features=max_features, \n",
    "                                                   min_samples_leaf=min_samples_leaf, \n",
    "                                                   random_state=1,\n",
    "                                                   n_jobs=-1)\n",
    "                    # Training\n",
    "                    model.fit(X_train, y_train)\n",
    "                    \n",
    "                    # Get predictions on train + test set\n",
    "                    y_preds_train = model.predict(X_train)\n",
    "                    y_preds_test = model.predict(X_test)\n",
    "                    \n",
    "                    # Evaluate F-score on train + test set\n",
    "                    f1_train.append(f1_score(y_train, y_preds_train, average='weighted'))\n",
    "                    f1_test.append(f1_score(y_test, y_preds_test, average='weighted'))\n",
    "                    \n",
    "                    fpr_train, tpr_train, thresholds_train = roc_curve(y_train, y_preds_train, pos_label=1)\n",
    "                    auc_train.append(auc(fpr_train, tpr_train))\n",
    "                    fpr_test, tpr_test, thresholds_test = roc_curve(y_test, y_preds_test, pos_label=1)\n",
    "                    auc_test.append(auc(fpr_test, tpr_test))\n",
    "                    \n",
    "                    # for each iteration, we want to store results only for the best set of hyperparams\n",
    "                    if f1_train[-1] == np.max(f1_train):\n",
    "                        n_est, max_feat, min_samp_leaf = n_estimators, max_features, min_samples_leaf\n",
    "                        f1_train_f, f1_test_f, auc_train_f, auc_test_f = f1_train[-1], f1_test[-1], auc_train[-1], auc_test[-1]\n",
    "\n",
    "    f1_train, f1_test = [], []\n",
    "                                    \n",
    "    print(f\"Training RF, batch:{i+1}, n_estimators={n_est}, max_features={max_feat}, min_sample_leaf={min_samp_leaf}\")\n",
    "    print(\"Train F1-score: \" + str(f1_train_f) + \"\\nTest F1-score: \" + str(f1_test_f) + \"\\nTrain AUC: \" + str(auc_train_f) + \"\\nTest AUC: \" + str(auc_test_f)) \n",
    "    print('')\n",
    "    \n",
    "    # try:\n",
    "    #     with open(out_file, \"a\") as f:\n",
    "    #         f.write(\"Training F1-score: \" + str(f1_train_f)+'\\n')\n",
    "    #         f.write(\"Testing F1-score: \" + str(f1_test_f)+'\\n')\n",
    "    # except ValueError:\n",
    "    #     with open(out_file, \"a\") as f:\n",
    "    #         f.write(\"NaN\\n\")\n",
    "            \n",
    "    f1_score_train[i], f1_score_test[i], auc_val_train[i], auc_val_test[i] = f1_train_f, f1_test_f, auc_train_f, auc_test_f\n",
    "\n",
    "print(\"Final train F1-score mean: \", np.mean(f1_score_train))\n",
    "print(\"Final train F1-score std: \", np.std(f1_score_train))\n",
    "print(\"Final test F1-score mean: \", np.mean(f1_score_test))\n",
    "print(\"Final test F1-score std: \", np.std(f1_score_test))\n",
    "print(\"Final train AUC mean: \", np.mean(auc_val_train))\n",
    "print(\"Final train AUC std: \", np.std(auc_val_train))\n",
    "print(\"Final test AUC mean: \", np.mean(auc_val_test))\n",
    "print(\"Final test AUC std: \", np.std(auc_val_test))"
   ]
  },
  {
   "cell_type": "code",
   "execution_count": 15,
   "id": "5c7c8334",
   "metadata": {},
   "outputs": [],
   "source": [
    "### Confusion Matrix\n",
    "\n",
    "classes = (\"ACR\", \"NASH\")\n",
    "\n",
    "cm = confusion_matrix(y_test, y_preds_test)\n",
    "df_cm = pd.DataFrame(cm, index = [i for i in classes], columns = [i for i in classes])\n",
    "\n",
    "# Plotting\n",
    "plt.figure(figsize = (5, 4))\n",
    "sns.heatmap(df_cm, annot=True, fmt=\".0f\", cbar=False);\n",
    "# plt.savefig(f\"/mnt/hd1/ani/Liver_pathology_project/Results/HIPT/ConfMat_test_frac_0p7.png\")"
   ]
  },
  {
   "cell_type": "code",
   "execution_count": null,
   "id": "d6baf879",
   "metadata": {},
   "outputs": [],
   "source": []
  }
 ],
 "metadata": {
  "kernelspec": {
   "display_name": "Python 3.10.9 (conda)",
   "language": "python",
   "name": "python3"
  },
  "language_info": {
   "codemirror_mode": {
    "name": "ipython",
    "version": 3
   },
   "file_extension": ".py",
   "mimetype": "text/x-python",
   "name": "python",
   "nbconvert_exporter": "python",
   "pygments_lexer": "ipython3",
   "version": "3.10.9"
  },
  "vscode": {
   "interpreter": {
    "hash": "6a2edfd9441314e81940a8db140f035b2781395eeff1de1e2eee74d8a060d612"
   }
  }
 },
 "nbformat": 4,
 "nbformat_minor": 5
}
