{
 "cells": [
  {
   "cell_type": "code",
   "execution_count": 4,
   "id": "43ecfd2f-38f4-4221-86d0-12be886c34eb",
   "metadata": {},
   "outputs": [],
   "source": [
    "# importing dataset\n",
    "from mil.data.datasets import musk1\n",
    "# importing bag_representation\n",
    "from mil.bag_representation import MILESMapping\n",
    "# importing validation strategy\n",
    "from mil.validators import LeaveOneOut\n",
    "# importing final model, which in this case is the SVC classifier from sklearn\n",
    "from mil.models import SVC\n",
    "# importing trainer\n",
    "from mil.trainer import Trainer\n",
    "# importing preprocessing \n",
    "from mil.preprocessing import StandarizerBagsList\n",
    "# importing metrics, which in this case are from tf keras metrics\n",
    "from mil.metrics import AUC"
   ]
  },
  {
   "cell_type": "code",
   "execution_count": 5,
   "id": "0d28eec6-eba1-4627-a7e4-81095cbd8862",
   "metadata": {},
   "outputs": [],
   "source": [
    "# loading dataset\n",
    "(bags_train, y_train), (bags_test, y_test) = musk1.load()"
   ]
  },
  {
   "cell_type": "code",
   "execution_count": null,
   "id": "58ee1903-8b0e-4d7b-b4e5-158aaccb5a01",
   "metadata": {},
   "outputs": [],
   "source": [
    "# instantiate trainer\n",
    "trainer = Trainer()"
   ]
  },
  {
   "cell_type": "code",
   "execution_count": null,
   "id": "0e371f6c-aaa8-433a-a75c-ad6f38a86a87",
   "metadata": {},
   "outputs": [],
   "source": [
    "# preparing trainer\n",
    "metrics = ['acc', AUC]\n",
    "model = SVC(kernel='linear', C=1, class_weight='balanced')\n",
    "pipeline = [('scale', StandarizerBagsList()), ('disc_mapping', MILESMapping())]\n",
    "trainer.prepare(model, preprocess_pipeline=pipeline ,metrics=metrics)"
   ]
  },
  {
   "cell_type": "code",
   "execution_count": null,
   "id": "be3d1a09-97af-479d-b9ea-e849647b500c",
   "metadata": {},
   "outputs": [],
   "source": [
    "# fitting trainer\n",
    "valid = LeaveOneOut()\n",
    "history = trainer.fit(bags_train, y_train, sample_weights='balanced', validation_strategy=valid, verbose=1)"
   ]
  },
  {
   "cell_type": "code",
   "execution_count": null,
   "id": "7289e8c5-81e5-4242-8426-9b7625a9b382",
   "metadata": {},
   "outputs": [],
   "source": [
    "# printing validation results for each fold\n",
    "print(history['metrics_val'])"
   ]
  },
  {
   "cell_type": "code",
   "execution_count": null,
   "id": "3a0be6b3-5570-456a-a833-6d68580a4c1f",
   "metadata": {},
   "outputs": [],
   "source": [
    "# predicting metrics for the test set\n",
    "trainer.predict_metrics(bags_test, y_test)"
   ]
  }
 ],
 "metadata": {
  "kernelspec": {
   "display_name": "Python 3 (ipykernel)",
   "language": "python",
   "name": "python3"
  },
  "language_info": {
   "codemirror_mode": {
    "name": "ipython",
    "version": 3
   },
   "file_extension": ".py",
   "mimetype": "text/x-python",
   "name": "python",
   "nbconvert_exporter": "python",
   "pygments_lexer": "ipython3",
   "version": "3.10.9"
  }
 },
 "nbformat": 4,
 "nbformat_minor": 5
}
