{
 "cells": [
  {
   "cell_type": "markdown",
   "metadata": {},
   "source": [
    "## Required Module Imports"
   ]
  },
  {
   "cell_type": "markdown",
   "metadata": {},
   "source": [
    "### Both reading and writing APIs are contained within the **czi** object in pylibCZIrw, so let's start by importing it."
   ]
  },
  {
   "cell_type": "markdown",
   "metadata": {},
   "source": [
    "### Additional modules are imported alongside the **pylibCZIrw** package."
   ]
  },
  {
   "cell_type": "code",
   "execution_count": 10,
   "metadata": {},
   "outputs": [
    {
     "name": "stdout",
     "output_type": "stream",
     "text": [
      "Using: /mnt/hd1/ani/conda/bin/python\n"
     ]
    }
   ],
   "source": [
    "from pylibCZIrw import czi as pyczi\n",
    "import json\n",
    "import matplotlib.pyplot as plt\n",
    "import matplotlib.cm as cm\n",
    "import numpy as np\n",
    "import os, sys\n",
    "import glob\n",
    "from tqdm import tqdm\n",
    "from tqdm.contrib import itertools as it\n",
    "from matplotlib.patches import Rectangle\n",
    "import cv2\n",
    "from scipy.ndimage import distance_transform_edt\n",
    "from scipy.stats import mode\n",
    "\n",
    "from cztile.fixed_total_area_strategy import AlmostEqualBorderFixedTotalAreaStrategy2D\n",
    "from cztile.tiling_strategy import Rectangle as czrect\n",
    "\n",
    "# show the used python env\n",
    "print(\"Using:\", sys.executable)"
   ]
  },
  {
   "cell_type": "markdown",
   "metadata": {},
   "source": [
    "## Opening a CZI - read only!"
   ]
  },
  {
   "cell_type": "markdown",
   "metadata": {},
   "source": [
    "##### A CZI file can be opened in a context manager using a path-like-object (in this case, file_path) with czi.open_czi(file_path) as czi: this will open the CZI in read-only mode."
   ]
  },
  {
   "cell_type": "markdown",
   "metadata": {},
   "source": [
    "##### Open a CZI and read metadata. We can open a czi using a context manager and then read the full metadata either as a raw XML string or as a dictionary"
   ]
  },
  {
   "cell_type": "code",
   "execution_count": 11,
   "metadata": {},
   "outputs": [
    {
     "data": {
      "text/plain": [
       "['/mnt/hd1/ani/Liver_pathology_project/Raw_data/Anh_slides/20230529__Ani 26.czi',\n",
       " '/mnt/hd1/ani/Liver_pathology_project/Raw_data/Anh_slides/20230529__Ani 27.czi',\n",
       " '/mnt/hd1/ani/Liver_pathology_project/Raw_data/Anh_slides/20230529__Ani 31.czi',\n",
       " '/mnt/hd1/ani/Liver_pathology_project/Raw_data/Anh_slides/20230529__Ani 01.czi',\n",
       " '/mnt/hd1/ani/Liver_pathology_project/Raw_data/Anh_slides/20230529__Ani 29.czi',\n",
       " '/mnt/hd1/ani/Liver_pathology_project/Raw_data/Anh_slides/20230529__Ani 25.czi',\n",
       " '/mnt/hd1/ani/Liver_pathology_project/Raw_data/Anh_slides/20230529__Ani 30.czi',\n",
       " '/mnt/hd1/ani/Liver_pathology_project/Raw_data/Anh_slides/20230529__Ani 03.czi',\n",
       " '/mnt/hd1/ani/Liver_pathology_project/Raw_data/Anh_slides/20230529__Ani 35.czi',\n",
       " '/mnt/hd1/ani/Liver_pathology_project/Raw_data/Anh_slides/20230529__Ani 43.czi',\n",
       " '/mnt/hd1/ani/Liver_pathology_project/Raw_data/Anh_slides/20230529__Ani 11.czi',\n",
       " '/mnt/hd1/ani/Liver_pathology_project/Raw_data/Anh_slides/20230529__Ani 22.czi',\n",
       " '/mnt/hd1/ani/Liver_pathology_project/Raw_data/Anh_slides/20230529__Ani 08.czi',\n",
       " '/mnt/hd1/ani/Liver_pathology_project/Raw_data/Anh_slides/20230529__Ani 33.czi',\n",
       " '/mnt/hd1/ani/Liver_pathology_project/Raw_data/Anh_slides/20230529__Ani 42.czi',\n",
       " '/mnt/hd1/ani/Liver_pathology_project/Raw_data/Anh_slides/20230529__Ani 19.czi',\n",
       " '/mnt/hd1/ani/Liver_pathology_project/Raw_data/Anh_slides/20230529__Ani 04.czi',\n",
       " '/mnt/hd1/ani/Liver_pathology_project/Raw_data/Anh_slides/20230529__Ani 23.czi',\n",
       " '/mnt/hd1/ani/Liver_pathology_project/Raw_data/Anh_slides/20230529__Ani 46.czi',\n",
       " '/mnt/hd1/ani/Liver_pathology_project/Raw_data/Anh_slides/20230529__Ani 21.czi',\n",
       " '/mnt/hd1/ani/Liver_pathology_project/Raw_data/Anh_slides/20230529__Ani 06.czi',\n",
       " '/mnt/hd1/ani/Liver_pathology_project/Raw_data/Anh_slides/20230529__Ani 13.czi',\n",
       " '/mnt/hd1/ani/Liver_pathology_project/Raw_data/Anh_slides/20230529__Ani 24.czi',\n",
       " '/mnt/hd1/ani/Liver_pathology_project/Raw_data/Anh_slides/20230529__Ani 28.czi',\n",
       " '/mnt/hd1/ani/Liver_pathology_project/Raw_data/Anh_slides/20230529__Ani 02.czi',\n",
       " '/mnt/hd1/ani/Liver_pathology_project/Raw_data/Anh_slides/20230529__Ani 44.czi',\n",
       " '/mnt/hd1/ani/Liver_pathology_project/Raw_data/Anh_slides/20230529__Ani 12.czi',\n",
       " '/mnt/hd1/ani/Liver_pathology_project/Raw_data/Anh_slides/20230529__Ani 15.czi',\n",
       " '/mnt/hd1/ani/Liver_pathology_project/Raw_data/Anh_slides/20230529__Ani 14.czi',\n",
       " '/mnt/hd1/ani/Liver_pathology_project/Raw_data/Anh_slides/20230529__Ani 40.czi',\n",
       " '/mnt/hd1/ani/Liver_pathology_project/Raw_data/Anh_slides/20230529__Ani 39.czi',\n",
       " '/mnt/hd1/ani/Liver_pathology_project/Raw_data/Anh_slides/20230529__Ani 07.czi',\n",
       " '/mnt/hd1/ani/Liver_pathology_project/Raw_data/Anh_slides/20230529__Ani 10.czi',\n",
       " '/mnt/hd1/ani/Liver_pathology_project/Raw_data/Anh_slides/20230529__Ani 05.czi',\n",
       " '/mnt/hd1/ani/Liver_pathology_project/Raw_data/Anh_slides/20230529__Ani 17.czi',\n",
       " '/mnt/hd1/ani/Liver_pathology_project/Raw_data/Anh_slides/20230529__Ani 34.czi',\n",
       " '/mnt/hd1/ani/Liver_pathology_project/Raw_data/Anh_slides/20230529__Ani 16.czi',\n",
       " '/mnt/hd1/ani/Liver_pathology_project/Raw_data/Anh_slides/20230529__Ani 41.czi',\n",
       " '/mnt/hd1/ani/Liver_pathology_project/Raw_data/Anh_slides/20230529__Ani 09.czi',\n",
       " '/mnt/hd1/ani/Liver_pathology_project/Raw_data/Anh_slides/20230529__Ani 38.czi',\n",
       " '/mnt/hd1/ani/Liver_pathology_project/Raw_data/Anh_slides/20230529__Ani 36.czi',\n",
       " '/mnt/hd1/ani/Liver_pathology_project/Raw_data/Anh_slides/20230529__Ani 32.czi',\n",
       " '/mnt/hd1/ani/Liver_pathology_project/Raw_data/Anh_slides/20230529__Ani 45.czi',\n",
       " '/mnt/hd1/ani/Liver_pathology_project/Raw_data/Anh_slides/20230529__Ani 20.czi',\n",
       " '/mnt/hd1/ani/Liver_pathology_project/Raw_data/Anh_slides/20230529__Ani 37.czi',\n",
       " '/mnt/hd1/ani/Liver_pathology_project/Raw_data/Anh_slides/20230529__Ani 18.czi']"
      ]
     },
     "execution_count": 11,
     "metadata": {},
     "output_type": "execute_result"
    }
   ],
   "source": [
    "# Folder where all WSI \".czi\" files exist\n",
    "dir_rawfiles = \"/mnt/hd1/ani/Liver_pathology_project/Raw_data/Anh_slides/\"\n",
    "\n",
    "# Folder where we want to save all extracted tiles\n",
    "dir_imgs = \"/mnt/hd1/ani/Liver_pathology_project/Raw_data/Anh_slides_converted_svs/\"\n",
    "\n",
    "# Get list of all patient WSIs\n",
    "wsi_img_list = (glob.glob(dir_rawfiles + \"*.czi\"))\n",
    "wsi_img_list"
   ]
  },
  {
   "cell_type": "code",
   "execution_count": 12,
   "metadata": {},
   "outputs": [
    {
     "name": "stdout",
     "output_type": "stream",
     "text": [
      "{\n",
      "    \"AcquisitionDateAndTime\": \"2023-05-30T09:59:09.3265289Z\",\n",
      "    \"SizeC\": \"1\",\n",
      "    \"ComponentBitCount\": \"8\",\n",
      "    \"PixelType\": \"Bgr24\",\n",
      "    \"SizeX\": \"18889\",\n",
      "    \"SizeY\": \"68133\",\n",
      "    \"SizeS\": \"3\",\n",
      "    \"SizeB\": \"1\",\n",
      "    \"SizeM\": \"245\",\n",
      "    \"OriginalCompressionMethod\": \"JpgXr\",\n",
      "    \"OriginalEncodingQuality\": \"85\",\n",
      "    \"AcquisitionDuration\": \"138279.41280000002\",\n",
      "    \"Dimensions\": {\n",
      "        \"Channels\": {\n",
      "            \"Channel\": {\n",
      "                \"@Id\": \"Channel:0\",\n",
      "                \"@Name\": \"TL Brightfield\",\n",
      "                \"Color\": \"#FFFFFFFF\",\n",
      "                \"Fluor\": \"TL Brightfield\",\n",
      "                \"ExposureTime\": \"200000\",\n",
      "                \"IlluminationType\": \"Transmitted\",\n",
      "                \"ContrastMethod\": \"Brightfield\",\n",
      "                \"PixelType\": \"Bgr24\",\n",
      "                \"ComponentBitCount\": \"8\",\n",
      "                \"AcquisitionMode\": \"WideField\",\n",
      "                \"DetectorSettings\": {\n",
      "                    \"Binning\": \"1,1\",\n",
      "                    \"EMGain\": \"0\",\n",
      "                    \"Detector\": {\n",
      "                        \"@Id\": \"Detector:Hitachi HV-F202SCL\"\n",
      "                    }\n",
      "                },\n",
      "                \"LightSourcesSettings\": {\n",
      "                    \"LightSourceSettings\": {\n",
      "                        \"Intensity\": \"209 %\",\n",
      "                        \"FlashDuration\": \"0.004\",\n",
      "                        \"LightSource\": {\n",
      "                            \"@Id\": \"LightSourceId\"\n",
      "                        }\n",
      "                    }\n",
      "                },\n",
      "                \"FilterSetRef\": {\n",
      "                    \"@Id\": \"FilterSet:1\"\n",
      "                }\n",
      "            }\n",
      "        },\n",
      "        \"Tracks\": {\n",
      "            \"Track\": {\n",
      "                \"@Id\": \"Track:1\",\n",
      "                \"ChannelRefs\": {\n",
      "                    \"ChannelRef\": {\n",
      "                        \"@Id\": \"Channel:0\"\n",
      "                    }\n",
      "                }\n",
      "            }\n",
      "        },\n",
      "        \"T\": {\n",
      "            \"StartTime\": \"2023-05-30T09:59:09.3265289Z\",\n",
      "            \"Positions\": {\n",
      "                \"BinaryList\": {\n",
      "                    \"AttachmentName\": \"TimeStamps\"\n",
      "                }\n",
      "            }\n",
      "        },\n",
      "        \"S\": {\n",
      "            \"Scenes\": {\n",
      "                \"Scene\": [\n",
      "                    {\n",
      "                        \"@Index\": \"0\",\n",
      "                        \"@Name\": \"ScanRegion0\",\n",
      "                        \"RegionId\": \"638209833010182763\",\n",
      "                        \"ScanMode\": \"Comb\",\n",
      "                        \"CenterPosition\": \"-34390.846,8731.102\",\n",
      "                        \"ContourSize\": \"1330.402,4467.363\",\n",
      "                        \"PyramidInfo\": {\n",
      "                            \"IsSane\": \"true\",\n",
      "                            \"PyramidLayersCount\": \"5\",\n",
      "                            \"IsMinimalCoverage\": \"true\",\n",
      "                            \"MinificationFactor\": \"2\",\n",
      "                            \"MinificationMethod\": \"Gaussian\"\n",
      "                        }\n",
      "                    },\n",
      "                    {\n",
      "                        \"@Index\": \"1\",\n",
      "                        \"@Name\": \"ScanRegion1\",\n",
      "                        \"RegionId\": \"638209833010192764\",\n",
      "                        \"ScanMode\": \"Comb\",\n",
      "                        \"CenterPosition\": \"-36275.232,12496.394\",\n",
      "                        \"ContourSize\": \"2313.684,14775.833\",\n",
      "                        \"PyramidInfo\": {\n",
      "                            \"IsSane\": \"true\",\n",
      "                            \"PyramidLayersCount\": \"7\",\n",
      "                            \"IsMinimalCoverage\": \"true\",\n",
      "                            \"MinificationFactor\": \"2\",\n",
      "                            \"MinificationMethod\": \"Gaussian\"\n",
      "                        }\n",
      "                    },\n",
      "                    {\n",
      "                        \"@Index\": \"2\",\n",
      "                        \"@Name\": \"ScanRegion2\",\n",
      "                        \"RegionId\": \"638209833010192765\",\n",
      "                        \"ScanMode\": \"Comb\",\n",
      "                        \"CenterPosition\": \"-35185.406,13899.077\",\n",
      "                        \"ContourSize\": \"1232.5,4890.703\",\n",
      "                        \"PyramidInfo\": {\n",
      "                            \"IsSane\": \"true\",\n",
      "                            \"PyramidLayersCount\": \"5\",\n",
      "                            \"IsMinimalCoverage\": \"true\",\n",
      "                            \"MinificationFactor\": \"2\",\n",
      "                            \"MinificationMethod\": \"Gaussian\"\n",
      "                        }\n",
      "                    }\n",
      "                ]\n",
      "            }\n",
      "        }\n",
      "    },\n",
      "    \"ObjectiveSettings\": {\n",
      "        \"RefractiveIndex\": \"1.000293\",\n",
      "        \"Medium\": \"Air\",\n",
      "        \"ObjectiveRef\": {\n",
      "            \"@Id\": \"Objective:1\"\n",
      "        }\n",
      "    },\n",
      "    \"MicroscopeRef\": {\n",
      "        \"@Id\": \"Microscope:1\"\n",
      "    },\n",
      "    \"TubeLenses\": null\n",
      "}\n"
     ]
    }
   ],
   "source": [
    "# open the CZI for reading\n",
    "with pyczi.open_czi(wsi_img_list[2]) as czidoc:\n",
    "    \n",
    "    # get the raw metadata as a dictionary\n",
    "    md_dict = czidoc.metadata\n",
    "    \n",
    "    # show some parts of it\n",
    "    print(json.dumps(md_dict[\"ImageDocument\"][\"Metadata\"][\"Information\"][\"Image\"], sort_keys=False, indent=4))"
   ]
  },
  {
   "cell_type": "markdown",
   "metadata": {},
   "source": [
    "## Get image dimensions"
   ]
  },
  {
   "cell_type": "markdown",
   "metadata": {},
   "source": [
    "##### There are different properties that allow us to retrieve information about dimensions. The total_bounding_box gives us all the dimensions of all orthogonal planes of the CZI image file."
   ]
  },
  {
   "cell_type": "code",
   "execution_count": 13,
   "metadata": {},
   "outputs": [
    {
     "name": "stdout",
     "output_type": "stream",
     "text": [
      "{'T': (0, 1), 'Z': (0, 1), 'C': (0, 1), 'B': (0, 1), 'X': (-171360, -152471), 'Y': (22680, 90904)}\n"
     ]
    }
   ],
   "source": [
    "with pyczi.open_czi(wsi_img_list[2]) as czidoc:\n",
    "\n",
    "    # get the image dimensions as an dictionary, where the key identifies the dimension\n",
    "    total_bounding_box = czidoc.total_bounding_box\n",
    "\n",
    "print(total_bounding_box)"
   ]
  },
  {
   "cell_type": "markdown",
   "metadata": {},
   "source": [
    "##### The total_bounding_rectangle gives us the X and Y dimensions of the CZI, i.e. the (X, Y) of the total_bounding_box."
   ]
  },
  {
   "cell_type": "code",
   "execution_count": 14,
   "metadata": {},
   "outputs": [
    {
     "name": "stdout",
     "output_type": "stream",
     "text": [
      "Rectangle(x=-171360, y=22680, w=18889, h=68224)\n"
     ]
    }
   ],
   "source": [
    "with pyczi.open_czi(wsi_img_list[2]) as czidoc:\n",
    "\n",
    "    # get the total bounding box for all scenes\n",
    "    total_bounding_rectangle = czidoc.total_bounding_rectangle\n",
    "\n",
    "print(total_bounding_rectangle)"
   ]
  },
  {
   "cell_type": "markdown",
   "metadata": {},
   "source": [
    "##### Scenes are not orthogonal to the other dimensions. They are contained within the 2D planes and can be seen simply as tags for certain regions.\n",
    "The scene_bounding_rectangle give us the bounding rectangle for each scene."
   ]
  },
  {
   "cell_type": "code",
   "execution_count": 15,
   "metadata": {},
   "outputs": [
    {
     "name": "stdout",
     "output_type": "stream",
     "text": [
      "{0: Rectangle(x=-159841, y=29160, w=7370, h=21728), 1: Rectangle(x=-171360, y=22680, w=11776, h=68224), 2: Rectangle(x=-164160, y=51836, w=7371, h=22820)}\n"
     ]
    }
   ],
   "source": [
    "with pyczi.open_czi(wsi_img_list[2]) as czidoc:\n",
    "\n",
    "    # get the bounding boxes for each individual scene\n",
    "    scenes_bounding_rectangle = czidoc.scenes_bounding_rectangle\n",
    "\n",
    "print(scenes_bounding_rectangle)   \n",
    "\n"
   ]
  },
  {
   "cell_type": "markdown",
   "metadata": {},
   "source": [
    "## Get the pixel type\n",
    "A channel's pixel type can be discovered with using: get_channel_pixel_type"
   ]
  },
  {
   "cell_type": "code",
   "execution_count": 16,
   "metadata": {},
   "outputs": [
    {
     "name": "stdout",
     "output_type": "stream",
     "text": [
      "Bgr24\n"
     ]
    }
   ],
   "source": [
    "with pyczi.open_czi(wsi_img_list[2]) as czidoc:\n",
    "    \n",
    "    # get the pixel type for the 1st channel\n",
    "    c0_pixel_type = czidoc.get_channel_pixel_type(0)\n",
    "\n",
    "print(c0_pixel_type)"
   ]
  },
  {
   "cell_type": "markdown",
   "metadata": {},
   "source": [
    "##### Or we can simply get all pixel types using: pixel_types"
   ]
  },
  {
   "cell_type": "code",
   "execution_count": 17,
   "metadata": {},
   "outputs": [
    {
     "name": "stdout",
     "output_type": "stream",
     "text": [
      "{0: 'Bgr24'}\n"
     ]
    }
   ],
   "source": [
    "with pyczi.open_czi(wsi_img_list[2]) as czidoc:\n",
    "    \n",
    "    # get all pixel types as a dictionary, where the key is the channel index\n",
    "    pixel_type = czidoc.pixel_types\n",
    "\n",
    "print(pixel_type)"
   ]
  },
  {
   "cell_type": "markdown",
   "metadata": {},
   "source": [
    "## Read pixel data\n",
    "Pixel data is read and returned as a numpy arry. The shape of the returned array and its data type will depend on the specified pixel_type.\n",
    "\n",
    "BGR pixel type -> [y, x, 3]\n",
    "Gray pixel type -> [y, x, 1]\n",
    "The background_pixel determines the pixel value for the background (i.e. regions where no pixel data exists), and must be consistent with the pixel_type\n",
    "\n",
    "pixel_type\tbackground_pixel type\tDefault value\n",
    "BGR\t3-value tuple\t(0, 0, 0)\n",
    "Gray\tScalar value bounded by the gray scale\t0\n",
    "Read whole 2D plane\n",
    "In order to read pixel data from a CZI image file it is important to understand the concept of \"planewise reading\".\n",
    "\n",
    "Reading data planewise means that every read operation yields a 2D array with the shape (Y, X, 1) or (Y, X, 3) depending on the requested pixel type. We can specify which 2D plane to read using the plane argument (dictionary).\n",
    "\n",
    "plane = {'C': 0, 'Z': 2, 'T': 1} - this will read a 2D plane from C=0, Z=2 and T=1\n",
    "if plane is not specified at all the default is to use the 1st index for all dimensions\n",
    "In order to read a complete Z-Stack, one would have to read each of the Z-slices using the plane argument. This can be easily created by \"wrapping\" those calls into some utility functions. To get started let's read a complete 2D plane."
   ]
  },
  {
   "cell_type": "code",
   "execution_count": 18,
   "metadata": {},
   "outputs": [
    {
     "name": "stdout",
     "output_type": "stream",
     "text": [
      "Array Shape:  (68224, 18889, 3)\n"
     ]
    },
    {
     "data": {
      "text/plain": [
       "Text(0.5, 1.0, 'Frame_1')"
      ]
     },
     "execution_count": 18,
     "metadata": {},
     "output_type": "execute_result"
    },
    {
     "data": {
      "image/png": "[encoded data removed]",
      "text/plain": [
       "<Figure size 500x300 with 2 Axes>"
      ]
     },
     "metadata": {},
     "output_type": "display_data"
    }
   ],
   "source": [
    "with pyczi.open_czi(wsi_img_list[2]) as czidoc:\n",
    "\n",
    "    # define some plane coordinates\n",
    "    plane_1 = {'C': 0}\n",
    "\n",
    "    # equivalent to reading {'C': 0}\n",
    "    frame_0 = czidoc.read()\n",
    "\n",
    "    # get the shape of the 2d plane - the last dime indicates the pixel type\n",
    "    # 3 = BGR and 1 = Gray\n",
    "    print(\"Array Shape: \", frame_0.shape)\n",
    "\n",
    "    # get specific planes \n",
    "    frame_1 = czidoc.read(plane=plane_1)\n",
    "\n",
    "fig, ax = plt.subplots(1, 2, figsize=(5, 3))\n",
    "ax[0].imshow(frame_0[...,0])\n",
    "ax[0].set_title(\"Frame_0\")\n",
    "ax[1].imshow(frame_1[...,0])\n",
    "ax[1].set_title(\"Frame_1\")"
   ]
  },
  {
   "cell_type": "markdown",
   "metadata": {},
   "source": [
    "## Tiling or patch generation"
   ]
  },
  {
   "cell_type": "code",
   "execution_count": 205,
   "metadata": {},
   "outputs": [
    {
     "name": "stderr",
     "output_type": "stream",
     "text": [
      "/tmp/ipykernel_96711/1757036386.py:64: RuntimeWarning: invalid value encountered in ulong_scalars\n",
      "  patch_4k_cp2[inds[1], inds[0], 0], patch_4k_cp2[inds[1], inds[0], 1], patch_4k_cp2[inds[1], inds[0], 2] = patch_true_bkgrd[:,:,0].sum()/img_thresh_stack[:,:,0].sum(), patch_true_bkgrd[:,:,1].sum()/img_thresh_stack[:,:,1].sum(), patch_true_bkgrd[:,:,2].sum()/img_thresh_stack[:,:,2].sum()\n"
     ]
    }
   ],
   "source": [
    "# create a \"tile\" by specifying the desired tile dimension and the\n",
    "# minimum required overlap between tiles (depends on the processing)\n",
    "tiler = AlmostEqualBorderFixedTotalAreaStrategy2D(total_tile_width=4096,\n",
    "                                                  total_tile_height=4096,\n",
    "                                                  min_border_width=0)\n",
    "\n",
    "# create CZI instance to read some metadata \n",
    "with pyczi.open_czi(wsi_img_list[2]) as czidoc_r:\n",
    "    \n",
    "    # get the bounding boxes for each individual scene: this will be a dictionary with keys = scene indices, values = [x,y,w,h] for that scene\n",
    "    scenes_bounding_rectangle = czidoc_r.scenes_bounding_rectangle\n",
    "\n",
    "    for i in range(len(scenes_bounding_rectangle)):\n",
    "\n",
    "        # Read entire scene as an array\n",
    "        scene_arr = czidoc_r.read(roi=scenes_bounding_rectangle[i], scene=i, zoom=1.0)\n",
    "        scene_arr = scene_arr[:, :, ::-1]   # BGR --> RGB\n",
    "        # scene_arr_mod_bkgrd = czidoc_r.read(roi=scenes_bounding_rectangle[i], scene=i, zoom=1.0, background_pixel=(203/255, 200/255, 216/255))\n",
    "        # scene_arr_mod_bkgrd = scene_arr_mod_bkgrd[:, :, ::-1]   # BGR --> RGB\n",
    "\n",
    "        # get the size of the bounding rectange for the scenes\n",
    "        tiles = tiler.tile_rectangle(czidoc_r.scenes_bounding_rectangle[i])   # first scene\n",
    "\n",
    "        for f, tile in enumerate(tiles):\n",
    "\n",
    "            roi_x, roi_y, roi_w, roi_h = tile.roi.x, tile.roi.y, tile.roi.w, tile.roi.h            \n",
    "            patch_4k = scene_arr[roi_y-np.abs(scenes_bounding_rectangle[i][1]):roi_y-np.abs(scenes_bounding_rectangle[i][1])+roi_h, roi_x+np.abs(scenes_bounding_rectangle[i][0]):roi_x+np.abs(scenes_bounding_rectangle[i][0])+roi_w, :]\n",
    "            # print(patch_4k.shape)\n",
    "\n",
    "            # if (i == 1) & (f >= 0) & (f < 5):\n",
    "            \n",
    "            ### Algorithm for matching black (no data) pixels with true background\n",
    "            # Compute distance + feature transform\n",
    "            # Output is a tuple with distance and feature matrices as 1st and 2nd elements respectively\n",
    "            patch_4k_cp1, patch_4k_cp2 = patch_4k.copy(), patch_4k.copy()\n",
    "                \n",
    "            # Computing distance+feature transform\n",
    "            edt = distance_transform_edt(patch_4k, return_indices=True)\n",
    "            _, feat_transform = edt[0], edt[1]\n",
    "\n",
    "            patch_4k_cp2[feat_transform[0], feat_transform[1], feat_transform[2]] = np.transpose(patch_4k_cp1, axes=(1,0,2))\n",
    "            \n",
    "            # Finding indices of pixels which are still be black\n",
    "            inds = np.where((patch_4k_cp2[feat_transform[0], feat_transform[1], feat_transform[2]] == 0))   \n",
    "\n",
    "            # Thresholding to isolate \"true background\" pixels\n",
    "            img_gray = cv2.cvtColor(patch_4k, cv2.COLOR_RGB2GRAY)\n",
    "            img_gray = img_gray.astype('uint8')\n",
    "            t, img_thresh = cv2.threshold(img_gray, 0, 1, cv2.THRESH_BINARY)\n",
    "\n",
    "            # Filter out tissue regions: we only want true background (=1)\n",
    "            img_thresh[img_gray < 180] = 0\n",
    "\n",
    "            # Extending to 3d stack\n",
    "            img_thresh_stack = np.repeat(img_thresh, repeats=patch_4k.shape[2], axis=1)\n",
    "            img_thresh_stack = img_thresh_stack.reshape((patch_4k.shape[0], patch_4k.shape[1], patch_4k.shape[2]))\n",
    "                \n",
    "            # Multiplying patch * thresholded mask to obtain true background\n",
    "            patch_true_bkgrd = patch_4k * img_thresh_stack\n",
    "\n",
    "            # plt.figure(figsize=(10,5))\n",
    "            # plt.subplot(121)\n",
    "            # plt.imshow(patch_4k)\n",
    "            # plt.subplot(122)\n",
    "            # plt.imshow(patch_true_bkgrd)\n",
    "\n",
    "            patch_4k_cp2[inds[1], inds[0], 0], patch_4k_cp2[inds[1], inds[0], 1], patch_4k_cp2[inds[1], inds[0], 2] = patch_true_bkgrd[:,:,0].sum()/img_thresh_stack[:,:,0].sum(), patch_true_bkgrd[:,:,1].sum()/img_thresh_stack[:,:,1].sum(), patch_true_bkgrd[:,:,2].sum()/img_thresh_stack[:,:,2].sum()\n",
    "\n",
    "            # # Lets visualize the result\n",
    "            # plt.figure(figsize=(10,5))\n",
    "            # plt.subplot(121)\n",
    "            # plt.imshow(patch_4k)\n",
    "            # plt.subplot(122)\n",
    "            # plt.imshow(patch_4k_cp2)\n",
    "\n",
    "            # plt.imsave(f\"/mnt/hd1/ani/Liver_pathology_project/Prepared_datasets/Tile_size_4096x4096/Anh_slides/Background_processing/sc_{i}_patch_{f}_pre.png\", patch_4k)\n",
    "            # plt.imsave(f\"/mnt/hd1/ani/Liver_pathology_project/Prepared_datasets/Tile_size_4096x4096/Anh_slides/Background_processing/sc_{i}_patch_{f}_post.png\", patch_4k_cp2)"
   ]
  },
  {
   "cell_type": "code",
   "execution_count": null,
   "metadata": {},
   "outputs": [],
   "source": []
  }
 ],
 "metadata": {
  "kernelspec": {
   "display_name": "Python 3.10.9 (conda)",
   "language": "python",
   "name": "python3"
  },
  "language_info": {
   "codemirror_mode": {
    "name": "ipython",
    "version": 3
   },
   "file_extension": ".py",
   "mimetype": "text/x-python",
   "name": "python",
   "nbconvert_exporter": "python",
   "pygments_lexer": "ipython3",
   "version": "3.10.9"
  },
  "orig_nbformat": 4,
  "vscode": {
   "interpreter": {
    "hash": "6a2edfd9441314e81940a8db140f035b2781395eeff1de1e2eee74d8a060d612"
   }
  }
 },
 "nbformat": 4,
 "nbformat_minor": 2
}
